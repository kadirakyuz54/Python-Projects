{
 "cells": [
  {
   "cell_type": "markdown",
   "metadata": {},
   "source": [
    "## Project: Descriptive Anlaysis of Police Shootings in the United States\n",
    "\n",
    "#### The data contains the police shootings incidents in the United States which took place between January, 2015 and December, 2020."
   ]
  },
  {
   "cell_type": "code",
   "execution_count": null,
   "metadata": {},
   "outputs": [],
   "source": [
    "# 1. Load the data"
   ]
  },
  {
   "cell_type": "code",
   "execution_count": 8,
   "metadata": {},
   "outputs": [
    {
     "name": "stdout",
     "output_type": "stream",
     "text": [
      "   id                name      date   manner_of_death       armed   age  \\\n",
      "0   3          Tim Elliot  1/2/2015              shot         gun  53.0   \n",
      "1   4    Lewis Lee Lembke  1/2/2015              shot         gun  47.0   \n",
      "2   5  John Paul Quintero  1/3/2015  shot and Tasered     unarmed  23.0   \n",
      "3   8     Matthew Hoffman  1/4/2015              shot  toy weapon  32.0   \n",
      "4   9   Michael Rodriguez  1/4/2015              shot    nail gun  39.0   \n",
      "\n",
      "  gender race           city state  signs_of_mental_illness threat_level  \\\n",
      "0      M    A        Shelton    WA                     True       attack   \n",
      "1      M    W          Aloha    OR                    False       attack   \n",
      "2      M    H        Wichita    KS                    False        other   \n",
      "3      M    W  San Francisco    CA                     True       attack   \n",
      "4      M    H          Evans    CO                    False       attack   \n",
      "\n",
      "          flee  body_camera  longitude  latitude  is_geocoding_exact  \n",
      "0  Not fleeing        False   -123.122    47.247                True  \n",
      "1  Not fleeing        False   -122.892    45.487                True  \n",
      "2  Not fleeing        False    -97.281    37.695                True  \n",
      "3  Not fleeing        False   -122.422    37.763                True  \n",
      "4  Not fleeing        False   -104.692    40.384                True  \n"
     ]
    }
   ],
   "source": [
    "import pandas as pd\n",
    "\n",
    "pol_shoot = pd.read_csv(\"fatal-police-shootings-data_2015-2020.csv\")\n",
    "\n",
    "# Examine the head of data\n",
    "print(pol_shoot.head())"
   ]
  },
  {
   "cell_type": "code",
   "execution_count": 2,
   "metadata": {},
   "outputs": [
    {
     "name": "stdout",
     "output_type": "stream",
     "text": [
      "<class 'pandas.core.frame.DataFrame'>\n",
      "RangeIndex: 5934 entries, 0 to 5933\n",
      "Data columns (total 17 columns):\n",
      " #   Column                   Non-Null Count  Dtype  \n",
      "---  ------                   --------------  -----  \n",
      " 0   id                       5934 non-null   int64  \n",
      " 1   name                     5728 non-null   object \n",
      " 2   date                     5934 non-null   object \n",
      " 3   manner_of_death          5934 non-null   object \n",
      " 4   armed                    5724 non-null   object \n",
      " 5   age                      5680 non-null   float64\n",
      " 6   gender                   5933 non-null   object \n",
      " 7   race                     5371 non-null   object \n",
      " 8   city                     5934 non-null   object \n",
      " 9   state                    5934 non-null   object \n",
      " 10  signs_of_mental_illness  5934 non-null   bool   \n",
      " 11  threat_level             5934 non-null   object \n",
      " 12  flee                     5609 non-null   object \n",
      " 13  body_camera              5934 non-null   bool   \n",
      " 14  longitude                5645 non-null   float64\n",
      " 15  latitude                 5645 non-null   float64\n",
      " 16  is_geocoding_exact       5934 non-null   bool   \n",
      "dtypes: bool(3), float64(3), int64(1), object(10)\n",
      "memory usage: 666.5+ KB\n",
      "None\n"
     ]
    }
   ],
   "source": [
    "# Generate an overviw of the data\n",
    "\n",
    "print(pol_shoot.info())"
   ]
  },
  {
   "cell_type": "code",
   "execution_count": 9,
   "metadata": {},
   "outputs": [
    {
     "name": "stdout",
     "output_type": "stream",
     "text": [
      "(5934, 17)\n",
      "id                           0\n",
      "name                       206\n",
      "date                         0\n",
      "manner_of_death              0\n",
      "armed                      210\n",
      "age                        254\n",
      "gender                       1\n",
      "race                       563\n",
      "city                         0\n",
      "state                        0\n",
      "signs_of_mental_illness      0\n",
      "threat_level                 0\n",
      "flee                       325\n",
      "body_camera                  0\n",
      "longitude                  289\n",
      "latitude                   289\n",
      "is_geocoding_exact           0\n",
      "dtype: int64\n"
     ]
    }
   ],
   "source": [
    "# Check the shape of data\n",
    "print(pol_shoot.shape)\n",
    "\n",
    "# Count the number of missing data in each column\n",
    "print(pol_shoot.isnull().sum())"
   ]
  },
  {
   "cell_type": "code",
   "execution_count": 10,
   "metadata": {},
   "outputs": [
    {
     "name": "stdout",
     "output_type": "stream",
     "text": [
      "id                           0\n",
      "name                         0\n",
      "date                         0\n",
      "manner_of_death              0\n",
      "armed                      206\n",
      "age                         91\n",
      "gender                       1\n",
      "race                       394\n",
      "city                         0\n",
      "state                        0\n",
      "signs_of_mental_illness      0\n",
      "threat_level                 0\n",
      "flee                       306\n",
      "body_camera                  0\n",
      "longitude                  272\n",
      "latitude                   272\n",
      "is_geocoding_exact           0\n",
      "dtype: int64\n"
     ]
    }
   ],
   "source": [
    "# Drop all rows that are missing 'name'\n",
    "\n",
    "pol_shoot.dropna(subset=['name'], inplace=True)\n",
    "\n",
    "# Count the number of missing data in each column again\n",
    "print(pol_shoot.isnull().sum())"
   ]
  },
  {
   "cell_type": "code",
   "execution_count": 34,
   "metadata": {},
   "outputs": [
    {
     "name": "stdout",
     "output_type": "stream",
     "text": [
      "5934\n"
     ]
    }
   ],
   "source": [
    "# Howmany incidents took place over 5 years?\n",
    "\n",
    "print(len(pol_shoot['id']))"
   ]
  },
  {
   "cell_type": "markdown",
   "metadata": {},
   "source": [
    "#### Over 5 years 5934 incidents took place across the US."
   ]
  },
  {
   "cell_type": "code",
   "execution_count": 38,
   "metadata": {
    "scrolled": true
   },
   "outputs": [
    {
     "name": "stdout",
     "output_type": "stream",
     "text": [
      "CA    879\n",
      "TX    524\n",
      "FL    399\n",
      "AZ    277\n",
      "CO    213\n",
      "GA    205\n",
      "OK    177\n",
      "NC    170\n",
      "WA    170\n",
      "OH    168\n",
      "TN    157\n",
      "MO    150\n",
      "LA    120\n",
      "PA    119\n",
      "NM    116\n",
      "IL    113\n",
      "IN    110\n",
      "NY    109\n",
      "AL    107\n",
      "NV    107\n",
      "KY    106\n",
      "VA    101\n",
      "WI     99\n",
      "MI     92\n",
      "SC     92\n",
      "OR     91\n",
      "AR     84\n",
      "MD     84\n",
      "UT     73\n",
      "NJ     71\n",
      "MS     71\n",
      "MN     66\n",
      "WV     59\n",
      "KS     54\n",
      "ID     45\n",
      "AK     42\n",
      "MA     38\n",
      "MT     37\n",
      "IA     35\n",
      "HI     31\n",
      "NE     26\n",
      "ME     23\n",
      "CT     22\n",
      "SD     18\n",
      "NH     16\n",
      "WY     15\n",
      "DC     14\n",
      "DE     14\n",
      "ND     12\n",
      "VT      9\n",
      "RI      4\n",
      "Name: state, dtype: int64\n"
     ]
    }
   ],
   "source": [
    "# How many cases took place in each state\n",
    "\n",
    "state_inc = pol_shoot['state'].value_counts()\n",
    "\n",
    "print(state_inc)\n"
   ]
  },
  {
   "cell_type": "code",
   "execution_count": 43,
   "metadata": {},
   "outputs": [
    {
     "data": {
      "image/png": "[encoded data removed]",
      "text/plain": [
       "<Figure size 432x288 with 1 Axes>"
      ]
     },
     "metadata": {
      "needs_background": "light"
     },
     "output_type": "display_data"
    }
   ],
   "source": [
    "# Plot the number of incidents by state\n",
    "import matplotlib.pyplot as plt\n",
    "\n",
    "plt.hist(state_inc, bins = 20)\n",
    "\n",
    "plt.show()"
   ]
  },
  {
   "cell_type": "markdown",
   "metadata": {},
   "source": [
    "#### California has the highes number of police shootings witth 814 incidents. Texas, Florida, Arizona, Georgia Colorado are the follwoing top 5 states with more than 200 incidents. "
   ]
  },
  {
   "cell_type": "code",
   "execution_count": 56,
   "metadata": {},
   "outputs": [
    {
     "name": "stdout",
     "output_type": "stream",
     "text": [
      "Index(['1/2/2015', '1/2/2015', '1/3/2015', '1/4/2015', '1/4/2015', '1/4/2015',\n",
      "       '1/5/2015', '1/6/2015', '1/6/2015', '1/6/2015',\n",
      "       ...\n",
      "       '12/29/2020', '12/29/2020', '12/29/2020', '12/29/2020', '12/30/2020',\n",
      "       '12/30/2020', '12/30/2020', '12/30/2020', '12/31/2020', '12/31/2020'],\n",
      "      dtype='object', name='date', length=5728)\n"
     ]
    }
   ],
   "source": [
    "# Import date from datetime\n",
    "from datetime import date\n",
    "import pandas as pd \n",
    "\n",
    "print(pol_shoot.index)\n"
   ]
  },
  {
   "cell_type": "markdown",
   "metadata": {},
   "source": [
    "#### We have the 5934 police shooting cases across the United States between 2015 January to 2020 December."
   ]
  },
  {
   "cell_type": "code",
   "execution_count": 71,
   "metadata": {},
   "outputs": [
    {
     "name": "stdout",
     "output_type": "stream",
     "text": [
      "gun                        3277\n",
      "knife                       837\n",
      "unarmed                     380\n",
      "toy weapon                  195\n",
      "vehicle                     171\n",
      "                           ... \n",
      "metal rake                    1\n",
      "carjack                       1\n",
      "baseball bat and bottle       1\n",
      "claimed to be armed           1\n",
      "pen                           1\n",
      "Name: armed, Length: 95, dtype: int64\n"
     ]
    }
   ],
   "source": [
    "import matplotlib.pyplot as plt\n",
    "\n",
    "arm_type= pol_shoot['armed'].value_counts()\n",
    "\n",
    "print(arm_type)"
   ]
  },
  {
   "cell_type": "code",
   "execution_count": 79,
   "metadata": {},
   "outputs": [
    {
     "name": "stdout",
     "output_type": "stream",
     "text": [
      "gun                        0.593444\n",
      "knife                      0.151576\n",
      "unarmed                    0.068816\n",
      "toy weapon                 0.035313\n",
      "vehicle                    0.030967\n",
      "                             ...   \n",
      "metal rake                 0.000181\n",
      "carjack                    0.000181\n",
      "baseball bat and bottle    0.000181\n",
      "claimed to be armed        0.000181\n",
      "pen                        0.000181\n",
      "Name: armed, Length: 95, dtype: float64\n"
     ]
    }
   ],
   "source": [
    "print(pol_shoot.armed.value_counts(normalize=True))"
   ]
  },
  {
   "cell_type": "markdown",
   "metadata": {},
   "source": [
    "#### In 59,3% og the cases where police used his gun the supsect was armed with a gun, and in 15,1% of the cases the suspects were carrying a knife."
   ]
  },
  {
   "cell_type": "code",
   "execution_count": 80,
   "metadata": {},
   "outputs": [
    {
     "name": "stdout",
     "output_type": "stream",
     "text": [
      "W    0.508811\n",
      "B    0.264717\n",
      "H    0.185039\n",
      "A    0.017435\n",
      "N    0.015186\n",
      "O    0.008811\n",
      "Name: race, dtype: float64\n"
     ]
    }
   ],
   "source": [
    "print(pol_shoot.race.value_counts(normalize=True))"
   ]
  },
  {
   "cell_type": "markdown",
   "metadata": {},
   "source": [
    "#### Out of 5934 police shootings over 5 years 50,8% of the suspects were white while 26,4% of them were African American and 18,5% were Hispanic."
   ]
  },
  {
   "cell_type": "code",
   "execution_count": 83,
   "metadata": {},
   "outputs": [
    {
     "name": "stdout",
     "output_type": "stream",
     "text": [
      "M    0.955299\n",
      "F    0.044701\n",
      "Name: gender, dtype: float64\n"
     ]
    }
   ],
   "source": [
    "print(pol_shoot.gender.value_counts(normalize=True))"
   ]
  },
  {
   "cell_type": "markdown",
   "metadata": {},
   "source": [
    "#### There is a great deal of disparity accsoss genders. 95,5% of the shooting cases involved males."
   ]
  },
  {
   "cell_type": "code",
   "execution_count": 27,
   "metadata": {},
   "outputs": [
    {
     "name": "stdout",
     "output_type": "stream",
     "text": [
      "False    0.874284\n",
      "True     0.125716\n",
      "Name: body_camera, dtype: float64\n"
     ]
    }
   ],
   "source": [
    "print(pol_shoot.body_camera.value_counts(normalize=True))"
   ]
  },
  {
   "cell_type": "markdown",
   "metadata": {},
   "source": [
    "#### In 87, 4% of the 5934 cases, the officers did not wear a body camera."
   ]
  },
  {
   "cell_type": "code",
   "execution_count": 28,
   "metadata": {},
   "outputs": [
    {
     "name": "stdout",
     "output_type": "stream",
     "text": [
      "False    0.766262\n",
      "True     0.233738\n",
      "Name: signs_of_mental_illness, dtype: float64\n"
     ]
    }
   ],
   "source": [
    "print(pol_shoot.signs_of_mental_illness.value_counts(normalize=True))   "
   ]
  },
  {
   "cell_type": "markdown",
   "metadata": {},
   "source": [
    "#### In 23,3% of the cases the individuals involved in the cases had signs of mental ilness."
   ]
  }
 ],
 "metadata": {
  "kernelspec": {
   "display_name": "Python 3",
   "language": "python",
   "name": "python3"
  },
  "language_info": {
   "codemirror_mode": {
    "name": "ipython",
    "version": 3
   },
   "file_extension": ".py",
   "mimetype": "text/x-python",
   "name": "python",
   "nbconvert_exporter": "python",
   "pygments_lexer": "ipython3",
   "version": "3.8.5"
  }
 },
 "nbformat": 4,
 "nbformat_minor": 4
}
