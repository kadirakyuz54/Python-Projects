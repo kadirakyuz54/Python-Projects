{
  "nbformat": 4,
  "nbformat_minor": 0,
  "metadata": {
    "colab": {
      "name": "Predicting sale price with deep learning.ipynb",
      "provenance": [],
      "collapsed_sections": []
    },
    "kernelspec": {
      "name": "python3",
      "display_name": "Python 3"
    },
    "language_info": {
      "name": "python"
    }
  },
  "cells": [
    {
      "cell_type": "markdown",
      "metadata": {
        "id": "E2YesYwDYKK3"
      },
      "source": [
        "# In this project I am going to compare the performance of Linear regression and Deep Learning algorithms in predicting the sale price."
      ]
    },
    {
      "cell_type": "code",
      "metadata": {
        "id": "sqbBWjSBljzm",
        "colab": {
          "base_uri": "https://localhost:8080/"
        },
        "outputId": "afb3d4aa-5fc1-4628-c6ca-4beb14a7c59b"
      },
      "source": [
        "# predicting sale price with deep learning\n",
        "from google.colab import drive\n",
        "drive.mount('/content/grive')"
      ],
      "execution_count": null,
      "outputs": [
        {
          "output_type": "stream",
          "text": [
            "Drive already mounted at /content/grive; to attempt to forcibly remount, call drive.mount(\"/content/grive\", force_remount=True).\n"
          ],
          "name": "stdout"
        }
      ]
    },
    {
      "cell_type": "code",
      "metadata": {
        "id": "rnUY5YPBmSI6"
      },
      "source": [
        "import pandas as pd\n",
        "df = pd.read_csv('/content/grive/MyDrive/Colab Notebooks/diamonds.csv')"
      ],
      "execution_count": null,
      "outputs": []
    },
    {
      "cell_type": "code",
      "metadata": {
        "id": "lA8v1GaempEZ"
      },
      "source": [
        "df.head()\n",
        "df = df.drop(['Unnamed: 6','carat.1', 'Predicted price'], axis =1)"
      ],
      "execution_count": null,
      "outputs": []
    },
    {
      "cell_type": "code",
      "metadata": {
        "colab": {
          "base_uri": "https://localhost:8080/",
          "height": 290
        },
        "id": "fsiTzQgAoO6Z",
        "outputId": "5a688199-d38d-4bc4-9aca-ff564b730116"
      },
      "source": [
        "df.describe()"
      ],
      "execution_count": null,
      "outputs": [
        {
          "output_type": "execute_result",
          "data": {
            "text/html": [
              "<div>\n",
              "<style scoped>\n",
              "    .dataframe tbody tr th:only-of-type {\n",
              "        vertical-align: middle;\n",
              "    }\n",
              "\n",
              "    .dataframe tbody tr th {\n",
              "        vertical-align: top;\n",
              "    }\n",
              "\n",
              "    .dataframe thead th {\n",
              "        text-align: right;\n",
              "    }\n",
              "</style>\n",
              "<table border=\"1\" class=\"dataframe\">\n",
              "  <thead>\n",
              "    <tr style=\"text-align: right;\">\n",
              "      <th></th>\n",
              "      <th>carat</th>\n",
              "      <th>cut_ord</th>\n",
              "      <th>clarity_ord</th>\n",
              "      <th>price</th>\n",
              "    </tr>\n",
              "  </thead>\n",
              "  <tbody>\n",
              "    <tr>\n",
              "      <th>count</th>\n",
              "      <td>53000.000000</td>\n",
              "      <td>50000.000000</td>\n",
              "      <td>50000.000000</td>\n",
              "      <td>50000.000000</td>\n",
              "    </tr>\n",
              "    <tr>\n",
              "      <th>mean</th>\n",
              "      <td>0.798418</td>\n",
              "      <td>3.903980</td>\n",
              "      <td>4.126700</td>\n",
              "      <td>3939.103500</td>\n",
              "    </tr>\n",
              "    <tr>\n",
              "      <th>std</th>\n",
              "      <td>0.474718</td>\n",
              "      <td>1.117043</td>\n",
              "      <td>1.665564</td>\n",
              "      <td>3995.879832</td>\n",
              "    </tr>\n",
              "    <tr>\n",
              "      <th>min</th>\n",
              "      <td>0.200000</td>\n",
              "      <td>1.000000</td>\n",
              "      <td>1.000000</td>\n",
              "      <td>326.000000</td>\n",
              "    </tr>\n",
              "    <tr>\n",
              "      <th>25%</th>\n",
              "      <td>0.400000</td>\n",
              "      <td>3.000000</td>\n",
              "      <td>3.000000</td>\n",
              "      <td>948.000000</td>\n",
              "    </tr>\n",
              "    <tr>\n",
              "      <th>50%</th>\n",
              "      <td>0.700000</td>\n",
              "      <td>4.000000</td>\n",
              "      <td>4.000000</td>\n",
              "      <td>2402.500000</td>\n",
              "    </tr>\n",
              "    <tr>\n",
              "      <th>75%</th>\n",
              "      <td>1.040000</td>\n",
              "      <td>5.000000</td>\n",
              "      <td>5.000000</td>\n",
              "      <td>5331.000000</td>\n",
              "    </tr>\n",
              "    <tr>\n",
              "      <th>max</th>\n",
              "      <td>5.010000</td>\n",
              "      <td>5.000000</td>\n",
              "      <td>8.000000</td>\n",
              "      <td>18823.000000</td>\n",
              "    </tr>\n",
              "  </tbody>\n",
              "</table>\n",
              "</div>"
            ],
            "text/plain": [
              "              carat       cut_ord   clarity_ord         price\n",
              "count  53000.000000  50000.000000  50000.000000  50000.000000\n",
              "mean       0.798418      3.903980      4.126700   3939.103500\n",
              "std        0.474718      1.117043      1.665564   3995.879832\n",
              "min        0.200000      1.000000      1.000000    326.000000\n",
              "25%        0.400000      3.000000      3.000000    948.000000\n",
              "50%        0.700000      4.000000      4.000000   2402.500000\n",
              "75%        1.040000      5.000000      5.000000   5331.000000\n",
              "max        5.010000      5.000000      8.000000  18823.000000"
            ]
          },
          "metadata": {},
          "execution_count": 8
        }
      ]
    },
    {
      "cell_type": "code",
      "metadata": {
        "colab": {
          "base_uri": "https://localhost:8080/"
        },
        "id": "8D9hdK3CoaxB",
        "outputId": "ea76b48f-5392-47a5-df40-548610de944a"
      },
      "source": [
        "df.var()"
      ],
      "execution_count": null,
      "outputs": [
        {
          "output_type": "execute_result",
          "data": {
            "text/plain": [
              "carat          2.253525e-01\n",
              "cut_ord        1.247854e+00\n",
              "clarity_ord    2.773755e+00\n",
              "price          1.596700e+07\n",
              "dtype: float64"
            ]
          },
          "metadata": {},
          "execution_count": 10
        }
      ]
    },
    {
      "cell_type": "code",
      "metadata": {
        "id": "HyPUX1SpouNR"
      },
      "source": [
        "import keras\n",
        "from keras.layers import Dense\n",
        "from keras.models import Sequential\n",
        "import numpy as np\n",
        "\n",
        "df['carat'] = df['carat'].astype(np.float32)\n",
        "df['cut_ord'] = df['cut_ord'].astype(np.float32)\n",
        "df['clarity_ord'] = df['clarity_ord'].astype(np.float32)\n",
        "df['price'] = df['price'].astype(np.float32)"
      ],
      "execution_count": null,
      "outputs": []
    },
    {
      "cell_type": "code",
      "metadata": {
        "id": "SAt0UTWNtNfE"
      },
      "source": [
        "df = df.loc[0:49999:, ['carat', 'cut_ord', 'clarity_ord', 'price']]"
      ],
      "execution_count": null,
      "outputs": []
    },
    {
      "cell_type": "code",
      "metadata": {
        "colab": {
          "base_uri": "https://localhost:8080/"
        },
        "id": "q_U42FZotoLw",
        "outputId": "cadc2654-d9ed-402a-df3d-405f32129054"
      },
      "source": [
        "# Print the number of NaNs\n",
        "df.isnull().sum()"
      ],
      "execution_count": null,
      "outputs": [
        {
          "output_type": "execute_result",
          "data": {
            "text/plain": [
              "carat          0\n",
              "cut_ord        0\n",
              "clarity_ord    0\n",
              "price          0\n",
              "dtype: int64"
            ]
          },
          "metadata": {},
          "execution_count": 13
        }
      ]
    },
    {
      "cell_type": "code",
      "metadata": {
        "id": "0qc-SJktw5sQ"
      },
      "source": [
        "predictors = df.drop('price', axis = 1)\n",
        "predictors = np.array(predictors)"
      ],
      "execution_count": null,
      "outputs": []
    },
    {
      "cell_type": "code",
      "metadata": {
        "id": "owk-j53cxOoA"
      },
      "source": [
        "target = df.price\n",
        "target = np.array(target)"
      ],
      "execution_count": null,
      "outputs": []
    },
    {
      "cell_type": "code",
      "metadata": {
        "colab": {
          "base_uri": "https://localhost:8080/"
        },
        "id": "TOD-i_NoB2Qi",
        "outputId": "4ae5ceae-79d1-4bfd-f23b-8fb12d531c53"
      },
      "source": [
        "# Import necessary modules\n",
        "from sklearn.linear_model import LinearRegression\n",
        "from sklearn.metrics import mean_squared_error\n",
        "from sklearn.model_selection import train_test_split\n",
        "\n",
        "# Create training and test sets\n",
        "predictors_train, predictors_test, target_train, target_test = train_test_split(predictors, target, test_size = 0.30, random_state= 42)\n",
        "\n",
        "# Create the regressor: reg_all\n",
        "reg_all = LinearRegression()\n",
        "\n",
        "# Fit the regressor to the training data\n",
        "reg_all.fit(predictors_train, target_train)\n",
        "\n",
        "# Predict on the test data: y_pred\n",
        "target_pred = reg_all.predict(predictors_test)\n",
        "\n",
        "\n",
        "# Compute and print R^2 and RMSE\n",
        "print(\"R^2: {}\".format(reg_all.score(predictors_test, target_test)))\n",
        "\n",
        "rmse = np.sqrt(mean_squared_error(target_test, target_pred))\n",
        "\n",
        "print(\"Root Mean Squared Error: {}\".format(rmse))\n"
      ],
      "execution_count": null,
      "outputs": [
        {
          "output_type": "stream",
          "text": [
            "R^2: 0.8849230974944802\n",
            "Root Mean Squared Error: 1328.0048828125\n"
          ],
          "name": "stdout"
        }
      ]
    },
    {
      "cell_type": "code",
      "metadata": {
        "colab": {
          "base_uri": "https://localhost:8080/"
        },
        "id": "leQJKFONCz0h",
        "outputId": "7a2a759d-d1ca-4fe4-e1f5-1e6582a1218f"
      },
      "source": [
        ">>> print('intercept:', reg_all.intercept_)\n",
        "\n",
        ">>> print('slope:', reg_all.coef_)\n"
      ],
      "execution_count": null,
      "outputs": [
        {
          "output_type": "stream",
          "text": [
            "intercept: -5239.331\n",
            "slope: [8387.326    154.32529  456.85684]\n"
          ],
          "name": "stdout"
        }
      ]
    },
    {
      "cell_type": "code",
      "metadata": {
        "colab": {
          "base_uri": "https://localhost:8080/",
          "height": 286
        },
        "id": "aXZ5oNo_8TBn",
        "outputId": "3b367371-6fc1-4a97-901b-4e60fdd124b4"
      },
      "source": [
        "import seaborn as sns\n",
        "sns.heatmap(df.corr(), square=True, cmap='RdYlGn')"
      ],
      "execution_count": null,
      "outputs": [
        {
          "output_type": "execute_result",
          "data": {
            "text/plain": [
              "<matplotlib.axes._subplots.AxesSubplot at 0x7f3980c8ea50>"
            ]
          },
          "metadata": {},
          "execution_count": 32
        },
        {
          "output_type": "display_data",
          "data": {
            "image/png": "[encoded data removed]",
            "text/plain": [
              "<Figure size 432x288 with 2 Axes>"
            ]
          },
          "metadata": {
            "needs_background": "light"
          }
        }
      ]
    },
    {
      "cell_type": "code",
      "metadata": {
        "colab": {
          "base_uri": "https://localhost:8080/"
        },
        "id": "yl9inMlExagR",
        "outputId": "55e3f429-328e-4434-e1c7-22a1719a153c"
      },
      "source": [
        "# Import EarlyStopping\n",
        "from keras.callbacks import EarlyStopping\n",
        "\n",
        "# Import necessary modules\n",
        "import keras\n",
        "from keras.layers import Dense\n",
        "from keras.models import Sequential\n",
        "import pandas as pd\n",
        "import numpy as np\n",
        "\n",
        "\n",
        "# Save the number of columns in predictors: n_cols\n",
        "n_cols = predictors.shape[1]\n",
        "input_shape = (n_cols,)\n",
        "\n",
        "input_shape"
      ],
      "execution_count": null,
      "outputs": [
        {
          "output_type": "execute_result",
          "data": {
            "text/plain": [
              "(3,)"
            ]
          },
          "metadata": {},
          "execution_count": 81
        }
      ]
    },
    {
      "cell_type": "code",
      "metadata": {
        "id": "jwvC9m8Jxr4R"
      },
      "source": [
        "# Specify the model\n",
        "model = Sequential()\n",
        "\n",
        "model.add(Dense(128, activation='relu', input_shape = input_shape,))\n",
        "model.add(Dense(64, activation='relu'))\n",
        "model.add(Dense(32, activation='relu'))\n",
        "model.add(Dense(8, activation='relu'))\n",
        "model.add(Dense(1))"
      ],
      "execution_count": null,
      "outputs": []
    },
    {
      "cell_type": "code",
      "metadata": {
        "colab": {
          "base_uri": "https://localhost:8080/"
        },
        "id": "NxOaAs2tyXjr",
        "outputId": "2f077f1c-03aa-480b-c629-b76e6201165d"
      },
      "source": [
        "model.summary()"
      ],
      "execution_count": null,
      "outputs": [
        {
          "output_type": "stream",
          "text": [
            "Model: \"sequential_4\"\n",
            "_________________________________________________________________\n",
            "Layer (type)                 Output Shape              Param #   \n",
            "=================================================================\n",
            "dense_18 (Dense)             (None, 128)               512       \n",
            "_________________________________________________________________\n",
            "dense_19 (Dense)             (None, 64)                8256      \n",
            "_________________________________________________________________\n",
            "dense_20 (Dense)             (None, 32)                2080      \n",
            "_________________________________________________________________\n",
            "dense_21 (Dense)             (None, 8)                 264       \n",
            "_________________________________________________________________\n",
            "dense_22 (Dense)             (None, 1)                 9         \n",
            "=================================================================\n",
            "Total params: 11,121\n",
            "Trainable params: 11,121\n",
            "Non-trainable params: 0\n",
            "_________________________________________________________________\n"
          ],
          "name": "stdout"
        }
      ]
    },
    {
      "cell_type": "code",
      "metadata": {
        "id": "e4dNDghWzExZ"
      },
      "source": [
        "\n",
        "# Compile the model\n",
        "model.compile(optimizer='adam', loss='mean_squared_error')"
      ],
      "execution_count": null,
      "outputs": []
    },
    {
      "cell_type": "code",
      "metadata": {
        "id": "SYc2qJbyJTdQ"
      },
      "source": [
        "# Create training and test sets\n",
        "predictors_train, predictors_test, target_train, target_test = train_test_split(predictors, target, test_size = 0.30, random_state= 42)"
      ],
      "execution_count": null,
      "outputs": []
    },
    {
      "cell_type": "code",
      "metadata": {
        "colab": {
          "base_uri": "https://localhost:8080/"
        },
        "id": "7TkElhBCByJ1",
        "outputId": "00c381ba-9d0d-453a-9c76-26489e7c62db"
      },
      "source": [
        "# Import the EarlyStopping and ModelCheckpoint callbacks\n",
        "from keras.callbacks import EarlyStopping, ModelCheckpoint\n",
        "\n",
        "# Early stop on validation accuracy\n",
        "monitor_val_loss = EarlyStopping(monitor = 'val_loss', patience = 5)\n",
        "\n",
        "# Save the best model as best_banknote_model.hdf5\n",
        "modelCheckpoint = ModelCheckpoint('best_diamonds_model.hdf5', save_best_only = True)\n",
        "\n",
        "# Fit your model for a stupid amount of epochs\n",
        "h_callback = model.fit(predictors_train, target_train,\n",
        "                    epochs = 1000,\n",
        "                    callbacks = [monitor_val_loss, modelCheckpoint],\n",
        "                    validation_data = (predictors_test, target_test))"
      ],
      "execution_count": null,
      "outputs": [
        {
          "output_type": "stream",
          "text": [
            "Epoch 1/1000\n",
            "1094/1094 [==============================] - 3s 2ms/step - loss: 10709778.0000 - val_loss: 2430042.7500\n",
            "Epoch 2/1000\n",
            "1094/1094 [==============================] - 2s 2ms/step - loss: 1887253.1250 - val_loss: 1490317.2500\n",
            "Epoch 3/1000\n",
            "1094/1094 [==============================] - 3s 2ms/step - loss: 1494589.7500 - val_loss: 1364199.3750\n",
            "Epoch 4/1000\n",
            "1094/1094 [==============================] - 3s 2ms/step - loss: 1420028.3750 - val_loss: 1295448.1250\n",
            "Epoch 5/1000\n",
            "1094/1094 [==============================] - 3s 2ms/step - loss: 1374345.2500 - val_loss: 1255556.0000\n",
            "Epoch 6/1000\n",
            "1094/1094 [==============================] - 3s 3ms/step - loss: 1340681.0000 - val_loss: 1227624.6250\n",
            "Epoch 7/1000\n",
            "1094/1094 [==============================] - 3s 3ms/step - loss: 1313874.0000 - val_loss: 1212159.5000\n",
            "Epoch 8/1000\n",
            "1094/1094 [==============================] - 3s 3ms/step - loss: 1301040.8750 - val_loss: 1215477.0000\n",
            "Epoch 9/1000\n",
            "1094/1094 [==============================] - 3s 3ms/step - loss: 1284990.6250 - val_loss: 1241470.7500\n",
            "Epoch 10/1000\n",
            "1094/1094 [==============================] - 3s 3ms/step - loss: 1276672.2500 - val_loss: 1165330.0000\n",
            "Epoch 11/1000\n",
            "1094/1094 [==============================] - 3s 3ms/step - loss: 1263787.6250 - val_loss: 1170839.7500\n",
            "Epoch 12/1000\n",
            "1094/1094 [==============================] - 2s 2ms/step - loss: 1264110.6250 - val_loss: 1166682.1250\n",
            "Epoch 13/1000\n",
            "1094/1094 [==============================] - 2s 2ms/step - loss: 1253022.5000 - val_loss: 1152763.0000\n",
            "Epoch 14/1000\n",
            "1094/1094 [==============================] - 3s 2ms/step - loss: 1247065.8750 - val_loss: 1152020.6250\n",
            "Epoch 15/1000\n",
            "1094/1094 [==============================] - 3s 2ms/step - loss: 1235250.3750 - val_loss: 1142264.0000\n",
            "Epoch 16/1000\n",
            "1094/1094 [==============================] - 3s 2ms/step - loss: 1239356.5000 - val_loss: 1142196.1250\n",
            "Epoch 17/1000\n",
            "1094/1094 [==============================] - 3s 3ms/step - loss: 1234283.7500 - val_loss: 1164309.3750\n",
            "Epoch 18/1000\n",
            "1094/1094 [==============================] - 3s 2ms/step - loss: 1233433.5000 - val_loss: 1159964.6250\n",
            "Epoch 19/1000\n",
            "1094/1094 [==============================] - 3s 2ms/step - loss: 1225562.7500 - val_loss: 1140856.5000\n",
            "Epoch 20/1000\n",
            "1094/1094 [==============================] - 3s 3ms/step - loss: 1222473.5000 - val_loss: 1137716.5000\n",
            "Epoch 21/1000\n",
            "1094/1094 [==============================] - 2s 2ms/step - loss: 1217209.7500 - val_loss: 1153050.5000\n",
            "Epoch 22/1000\n",
            "1094/1094 [==============================] - 2s 2ms/step - loss: 1207378.7500 - val_loss: 1127607.7500\n",
            "Epoch 23/1000\n",
            "1094/1094 [==============================] - 2s 2ms/step - loss: 1205784.1250 - val_loss: 1168946.0000\n",
            "Epoch 24/1000\n",
            "1094/1094 [==============================] - 3s 2ms/step - loss: 1210305.2500 - val_loss: 1129665.8750\n",
            "Epoch 25/1000\n",
            "1094/1094 [==============================] - 2s 2ms/step - loss: 1201786.2500 - val_loss: 1120853.3750\n",
            "Epoch 26/1000\n",
            "1094/1094 [==============================] - 3s 2ms/step - loss: 1196045.8750 - val_loss: 1169294.0000\n",
            "Epoch 27/1000\n",
            "1094/1094 [==============================] - 3s 2ms/step - loss: 1193168.5000 - val_loss: 1182481.2500\n",
            "Epoch 28/1000\n",
            "1094/1094 [==============================] - 3s 2ms/step - loss: 1190595.0000 - val_loss: 1116077.0000\n",
            "Epoch 29/1000\n",
            "1094/1094 [==============================] - 3s 3ms/step - loss: 1195983.2500 - val_loss: 1105434.2500\n",
            "Epoch 30/1000\n",
            "1094/1094 [==============================] - 3s 2ms/step - loss: 1183395.2500 - val_loss: 1111333.8750\n",
            "Epoch 31/1000\n",
            "1094/1094 [==============================] - 3s 2ms/step - loss: 1178583.2500 - val_loss: 1131810.6250\n",
            "Epoch 32/1000\n",
            "1094/1094 [==============================] - 2s 2ms/step - loss: 1178347.6250 - val_loss: 1103946.3750\n",
            "Epoch 33/1000\n",
            "1094/1094 [==============================] - 3s 2ms/step - loss: 1172343.7500 - val_loss: 1170112.8750\n",
            "Epoch 34/1000\n",
            "1094/1094 [==============================] - 2s 2ms/step - loss: 1170575.5000 - val_loss: 1249393.7500\n",
            "Epoch 35/1000\n",
            "1094/1094 [==============================] - 3s 2ms/step - loss: 1179248.5000 - val_loss: 1131279.0000\n",
            "Epoch 36/1000\n",
            "1094/1094 [==============================] - 3s 2ms/step - loss: 1165516.7500 - val_loss: 1112846.5000\n",
            "Epoch 37/1000\n",
            "1094/1094 [==============================] - 3s 2ms/step - loss: 1167688.6250 - val_loss: 1233633.3750\n"
          ],
          "name": "stdout"
        }
      ]
    },
    {
      "cell_type": "code",
      "metadata": {
        "colab": {
          "base_uri": "https://localhost:8080/",
          "height": 295
        },
        "id": "1j1b7NFEtv45",
        "outputId": "9d52cd39-b14c-405c-ad9c-8d1a25222fc1"
      },
      "source": [
        "import matplotlib.pyplot as plt\n",
        "plt.figure()\n",
        "plt.plot(h_callback.history['val_loss'], label = 'Validation loss')\n",
        "plt.plot(h_callback.history['loss'], label= 'Training loss')\n",
        "plt.title('Model loss')\n",
        "plt.xlabel('Epoch')\n",
        "plt.ylabel('loss')\n",
        "plt.legend()\n",
        "plt.show()\n"
      ],
      "execution_count": null,
      "outputs": [
        {
          "output_type": "display_data",
          "data": {
            "image/png": "[encoded data removed]",
            "text/plain": [
              "<Figure size 432x288 with 1 Axes>"
            ]
          },
          "metadata": {
            "needs_background": "light"
          }
        }
      ]
    },
    {
      "cell_type": "code",
      "metadata": {
        "id": "HHLrCzHYCB6N"
      },
      "source": [
        "\n",
        "from keras.models import load_model\n",
        "\n",
        "my_model = load_model('best_diamonds_model.hdf5')"
      ],
      "execution_count": null,
      "outputs": []
    },
    {
      "cell_type": "code",
      "metadata": {
        "colab": {
          "base_uri": "https://localhost:8080/"
        },
        "id": "aYHcMzhoDOMV",
        "outputId": "dae271eb-89e4-46d0-bd57-3f535054604d"
      },
      "source": [
        "preds = my_model.predict(predictors_test)\n",
        "preds"
      ],
      "execution_count": null,
      "outputs": [
        {
          "output_type": "execute_result",
          "data": {
            "text/plain": [
              "array([[5446.1655],\n",
              "       [2826.0103],\n",
              "       [1338.661 ],\n",
              "       ...,\n",
              "       [ 570.9213],\n",
              "       [1602.3684],\n",
              "       [ 702.5221]], dtype=float32)"
            ]
          },
          "metadata": {},
          "execution_count": 101
        }
      ]
    },
    {
      "cell_type": "code",
      "metadata": {
        "colab": {
          "base_uri": "https://localhost:8080/"
        },
        "id": "ejn7XsGlCMlc",
        "outputId": "81ffe18b-8c50-4406-be8e-28fc39551a49"
      },
      "source": [
        "target_test"
      ],
      "execution_count": null,
      "outputs": [
        {
          "output_type": "execute_result",
          "data": {
            "text/plain": [
              "array([6884., 3212., 1424., ...,  696., 1224.,  723.], dtype=float32)"
            ]
          },
          "metadata": {},
          "execution_count": 102
        }
      ]
    },
    {
      "cell_type": "code",
      "metadata": {
        "colab": {
          "base_uri": "https://localhost:8080/"
        },
        "id": "SVTt4d84KnG2",
        "outputId": "5a776760-57fe-4f70-d67d-aa8c1839188e"
      },
      "source": [
        "from sklearn.metrics import mean_squared_error\n",
        "\n",
        "from math import sqrt\n",
        "\n",
        "\n",
        "\n",
        "mse = mean_squared_error(target_test, preds)\n",
        "\n",
        "\n",
        "rmse = sqrt(mse)\n",
        "\n",
        "print('RMSE: %f' % rmse)"
      ],
      "execution_count": null,
      "outputs": [
        {
          "output_type": "stream",
          "text": [
            "RMSE: 1050.688405\n"
          ],
          "name": "stdout"
        }
      ]
    },
    {
      "cell_type": "markdown",
      "metadata": {
        "id": "Mx7k3zHuLTqW"
      },
      "source": [
        "Deep learning algorithm with some optimization results in 20,8 % better performance than Linear Regression. \n"
      ]
    },
    {
      "cell_type": "code",
      "metadata": {
        "id": "d-A5m1KM6NBv"
      },
      "source": [
        "from keras.layers import BatchNormalization\n",
        "\n",
        "\n",
        "# Specify the model\n",
        "model_b = Sequential()\n",
        "\n",
        "model_b.add(Dense(128, activation='relu', input_shape = input_shape,))\n",
        "model_b.add(Dense(64, activation='relu'))\n",
        "model_b.add(Dense(32, activation='relu'))\n",
        "model_b.add(Dense(8, activation='relu'))\n",
        "model_b.add(BatchNormalization())\n",
        "model_b.add(Dense(1))"
      ],
      "execution_count": null,
      "outputs": []
    },
    {
      "cell_type": "code",
      "metadata": {
        "colab": {
          "base_uri": "https://localhost:8080/"
        },
        "id": "7-CuZd4o8kY8",
        "outputId": "baa948a1-f958-4d57-c70a-28780b1c5102"
      },
      "source": [
        "model_b.summary()"
      ],
      "execution_count": null,
      "outputs": [
        {
          "output_type": "stream",
          "text": [
            "Model: \"sequential_3\"\n",
            "_________________________________________________________________\n",
            "Layer (type)                 Output Shape              Param #   \n",
            "=================================================================\n",
            "dense_13 (Dense)             (None, 128)               512       \n",
            "_________________________________________________________________\n",
            "dense_14 (Dense)             (None, 64)                8256      \n",
            "_________________________________________________________________\n",
            "dense_15 (Dense)             (None, 32)                2080      \n",
            "_________________________________________________________________\n",
            "dense_16 (Dense)             (None, 8)                 264       \n",
            "_________________________________________________________________\n",
            "batch_normalization (BatchNo (None, 8)                 32        \n",
            "_________________________________________________________________\n",
            "dense_17 (Dense)             (None, 1)                 9         \n",
            "=================================================================\n",
            "Total params: 11,153\n",
            "Trainable params: 11,137\n",
            "Non-trainable params: 16\n",
            "_________________________________________________________________\n"
          ],
          "name": "stdout"
        }
      ]
    },
    {
      "cell_type": "code",
      "metadata": {
        "id": "KC26wByV8vPg"
      },
      "source": [
        "# Create training and test sets\n",
        "predictors_train, predictors_test, target_train, target_test = train_test_split(predictors, target, test_size = 0.30, random_state= 42)"
      ],
      "execution_count": null,
      "outputs": []
    },
    {
      "cell_type": "code",
      "metadata": {
        "id": "1REP2eca9Mot"
      },
      "source": [
        "# Compile the model\n",
        "model_b.compile(optimizer='adam', loss='mean_squared_error')"
      ],
      "execution_count": null,
      "outputs": []
    },
    {
      "cell_type": "code",
      "metadata": {
        "colab": {
          "base_uri": "https://localhost:8080/"
        },
        "id": "11LNsNNG86O0",
        "outputId": "3706055f-c3a5-4c8c-94f5-e680b8f0f2a0"
      },
      "source": [
        "# Import the EarlyStopping and ModelCheckpoint callbacks\n",
        "from keras.callbacks import EarlyStopping, ModelCheckpoint\n",
        "\n",
        "# Early stop on validation accuracy\n",
        "monitor_val_loss = EarlyStopping(monitor = 'val_loss', patience = 5)\n",
        "\n",
        "# Save the best model as best_banknote_model.hdf5\n",
        "modelCheckpoint = ModelCheckpoint('best_diamonds_model_b.hdf5', save_best_only = True)\n",
        "\n",
        "# Fit your model for a stupid amount of epochs\n",
        "h_callback = model_b.fit(predictors_train, target_train,\n",
        "                    epochs = 1000,\n",
        "                    callbacks = [monitor_val_loss, modelCheckpoint],\n",
        "                    validation_data = (predictors_test, target_test))"
      ],
      "execution_count": null,
      "outputs": [
        {
          "output_type": "stream",
          "text": [
            "Epoch 1/1000\n",
            "1094/1094 [==============================] - 3s 2ms/step - loss: 1522880.6250 - val_loss: 973665.0625\n",
            "Epoch 2/1000\n",
            "1094/1094 [==============================] - 3s 3ms/step - loss: 1589228.3750 - val_loss: 973149.3750\n",
            "Epoch 3/1000\n",
            "1094/1094 [==============================] - 3s 2ms/step - loss: 1595800.0000 - val_loss: 995706.2500\n",
            "Epoch 4/1000\n",
            "1094/1094 [==============================] - 3s 2ms/step - loss: 1550274.7500 - val_loss: 978770.0625\n",
            "Epoch 5/1000\n",
            "1094/1094 [==============================] - 3s 2ms/step - loss: 1559606.6250 - val_loss: 1026182.9375\n",
            "Epoch 6/1000\n",
            "1094/1094 [==============================] - 3s 2ms/step - loss: 1567399.2500 - val_loss: 1020329.7500\n",
            "Epoch 7/1000\n",
            "1094/1094 [==============================] - 3s 3ms/step - loss: 1587444.2500 - val_loss: 969407.1250\n",
            "Epoch 8/1000\n",
            "1094/1094 [==============================] - 3s 2ms/step - loss: 1509472.0000 - val_loss: 996795.3125\n",
            "Epoch 9/1000\n",
            "1094/1094 [==============================] - 3s 2ms/step - loss: 1532649.1250 - val_loss: 988524.5625\n",
            "Epoch 10/1000\n",
            "1094/1094 [==============================] - 3s 3ms/step - loss: 1533421.3750 - val_loss: 1146951.2500\n",
            "Epoch 11/1000\n",
            "1094/1094 [==============================] - 3s 2ms/step - loss: 1555150.1250 - val_loss: 978282.0625\n",
            "Epoch 12/1000\n",
            "1094/1094 [==============================] - 3s 2ms/step - loss: 1577648.7500 - val_loss: 1087415.8750\n"
          ],
          "name": "stdout"
        }
      ]
    },
    {
      "cell_type": "code",
      "metadata": {
        "id": "9fDGNw4t9Cez"
      },
      "source": [
        "from keras.models import load_model\n",
        "\n",
        "my_model2 = load_model('best_diamonds_model_b.hdf5')"
      ],
      "execution_count": null,
      "outputs": []
    },
    {
      "cell_type": "code",
      "metadata": {
        "colab": {
          "base_uri": "https://localhost:8080/"
        },
        "id": "difSC3PA96cM",
        "outputId": "4ce4a7a6-8c3c-483c-f83c-e5269c6140d7"
      },
      "source": [
        "preds = my_model2.predict(predictors_test)\n",
        "preds"
      ],
      "execution_count": null,
      "outputs": [
        {
          "output_type": "execute_result",
          "data": {
            "text/plain": [
              "array([[5598.6406 ],\n",
              "       [2985.1406 ],\n",
              "       [1491.3794 ],\n",
              "       ...,\n",
              "       [ 459.32642],\n",
              "       [1811.3462 ],\n",
              "       [ 743.5115 ]], dtype=float32)"
            ]
          },
          "metadata": {},
          "execution_count": 78
        }
      ]
    },
    {
      "cell_type": "code",
      "metadata": {
        "colab": {
          "base_uri": "https://localhost:8080/"
        },
        "id": "BPajk7l8-z-0",
        "outputId": "2ea509cc-c455-46e2-9800-bf779623a3c1"
      },
      "source": [
        "target_test"
      ],
      "execution_count": null,
      "outputs": [
        {
          "output_type": "execute_result",
          "data": {
            "text/plain": [
              "array([6884., 3212., 1424., ...,  696., 1224.,  723.], dtype=float32)"
            ]
          },
          "metadata": {},
          "execution_count": 79
        }
      ]
    },
    {
      "cell_type": "code",
      "metadata": {
        "colab": {
          "base_uri": "https://localhost:8080/"
        },
        "id": "Mx9ms3ab-6h7",
        "outputId": "7f9e4472-11b0-49ef-d573-49691a8a2c7e"
      },
      "source": [
        "from sklearn.metrics import mean_squared_error\n",
        "\n",
        "from math import sqrt\n",
        "\n",
        "\n",
        "\n",
        "mse = mean_squared_error(target_test, preds)\n",
        "\n",
        "\n",
        "rmse = sqrt(mse)\n",
        "\n",
        "print('RMSE: %f' % rmse)"
      ],
      "execution_count": null,
      "outputs": [
        {
          "output_type": "stream",
          "text": [
            "RMSE: 984.585033\n"
          ],
          "name": "stdout"
        }
      ]
    },
    {
      "cell_type": "markdown",
      "metadata": {
        "id": "apmhbP8E-_JE"
      },
      "source": [
        "# Deep learning with batch optimization performs even better with 25,8 % performance increase than the Linear regression."
      ]
    },
    {
      "cell_type": "markdown",
      "metadata": {
        "id": "5mdAxiuJYkst"
      },
      "source": [
        "## RMSE with Linear Rehression, 1328\n",
        "## RMSE with Deep Learning, 1050.68\n",
        "## RMSE with Deep Learning and Batch Normalization, 984.58 "
      ]
    }
  ]
}