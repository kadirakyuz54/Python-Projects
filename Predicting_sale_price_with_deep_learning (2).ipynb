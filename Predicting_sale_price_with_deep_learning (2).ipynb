{
  "nbformat": 4,
  "nbformat_minor": 0,
  "metadata": {
    "colab": {
      "name": "Predicting sale price with deep learning.ipynb",
      "provenance": [],
      "collapsed_sections": []
    },
    "kernelspec": {
      "name": "python3",
      "display_name": "Python 3"
    },
    "language_info": {
      "name": "python"
    }
  },
  "cells": [
    {
      "cell_type": "markdown",
      "metadata": {
        "id": "E2YesYwDYKK3"
      },
      "source": [
        "# In this project I am going to compare the performance of Linear regression and Deep Learning algorithms in predicting the sale price."
      ]
    },
    {
      "cell_type": "code",
      "metadata": {
        "id": "sqbBWjSBljzm",
        "colab": {
          "base_uri": "https://localhost:8080/"
        },
        "outputId": "10fee08d-9af9-4a83-d156-2ad2b976e490"
      },
      "source": [
        "# predicting sale price with deep learning\n",
        "from google.colab import drive\n",
        "drive.mount('/content/grive')"
      ],
      "execution_count": 1,
      "outputs": [
        {
          "output_type": "stream",
          "name": "stdout",
          "text": [
            "Mounted at /content/grive\n"
          ]
        }
      ]
    },
    {
      "cell_type": "code",
      "metadata": {
        "id": "rnUY5YPBmSI6"
      },
      "source": [
        "import pandas as pd\n",
        "df = pd.read_csv('/content/grive/MyDrive/Colab Notebooks/diamonds.csv')"
      ],
      "execution_count": 12,
      "outputs": []
    },
    {
      "cell_type": "code",
      "metadata": {
        "id": "lA8v1GaempEZ"
      },
      "source": [
        "df.head()\n",
        "df = df.drop(['Unnamed: 6','carat.1', 'Predicted price'], axis =1)"
      ],
      "execution_count": 13,
      "outputs": []
    },
    {
      "cell_type": "code",
      "metadata": {
        "id": "nbXh70538v-R"
      },
      "source": [
        "df = df.loc[0:49999:, ['carat', 'cut_ord', 'clarity_ord', 'price']]"
      ],
      "execution_count": 14,
      "outputs": []
    },
    {
      "cell_type": "code",
      "metadata": {
        "colab": {
          "base_uri": "https://localhost:8080/",
          "height": 300
        },
        "id": "fsiTzQgAoO6Z",
        "outputId": "1c384c21-c65e-452d-da78-8668a7050ef8"
      },
      "source": [
        "df.describe()"
      ],
      "execution_count": 15,
      "outputs": [
        {
          "output_type": "execute_result",
          "data": {
            "text/html": [
              "<div>\n",
              "<style scoped>\n",
              "    .dataframe tbody tr th:only-of-type {\n",
              "        vertical-align: middle;\n",
              "    }\n",
              "\n",
              "    .dataframe tbody tr th {\n",
              "        vertical-align: top;\n",
              "    }\n",
              "\n",
              "    .dataframe thead th {\n",
              "        text-align: right;\n",
              "    }\n",
              "</style>\n",
              "<table border=\"1\" class=\"dataframe\">\n",
              "  <thead>\n",
              "    <tr style=\"text-align: right;\">\n",
              "      <th></th>\n",
              "      <th>carat</th>\n",
              "      <th>cut_ord</th>\n",
              "      <th>clarity_ord</th>\n",
              "      <th>price</th>\n",
              "    </tr>\n",
              "  </thead>\n",
              "  <tbody>\n",
              "    <tr>\n",
              "      <th>count</th>\n",
              "      <td>50000.000000</td>\n",
              "      <td>50000.000000</td>\n",
              "      <td>50000.000000</td>\n",
              "      <td>50000.000000</td>\n",
              "    </tr>\n",
              "    <tr>\n",
              "      <th>mean</th>\n",
              "      <td>0.798597</td>\n",
              "      <td>3.903980</td>\n",
              "      <td>4.126700</td>\n",
              "      <td>3939.103500</td>\n",
              "    </tr>\n",
              "    <tr>\n",
              "      <th>std</th>\n",
              "      <td>0.474651</td>\n",
              "      <td>1.117043</td>\n",
              "      <td>1.665564</td>\n",
              "      <td>3995.879832</td>\n",
              "    </tr>\n",
              "    <tr>\n",
              "      <th>min</th>\n",
              "      <td>0.200000</td>\n",
              "      <td>1.000000</td>\n",
              "      <td>1.000000</td>\n",
              "      <td>326.000000</td>\n",
              "    </tr>\n",
              "    <tr>\n",
              "      <th>25%</th>\n",
              "      <td>0.400000</td>\n",
              "      <td>3.000000</td>\n",
              "      <td>3.000000</td>\n",
              "      <td>948.000000</td>\n",
              "    </tr>\n",
              "    <tr>\n",
              "      <th>50%</th>\n",
              "      <td>0.700000</td>\n",
              "      <td>4.000000</td>\n",
              "      <td>4.000000</td>\n",
              "      <td>2402.500000</td>\n",
              "    </tr>\n",
              "    <tr>\n",
              "      <th>75%</th>\n",
              "      <td>1.040000</td>\n",
              "      <td>5.000000</td>\n",
              "      <td>5.000000</td>\n",
              "      <td>5331.000000</td>\n",
              "    </tr>\n",
              "    <tr>\n",
              "      <th>max</th>\n",
              "      <td>5.010000</td>\n",
              "      <td>5.000000</td>\n",
              "      <td>8.000000</td>\n",
              "      <td>18823.000000</td>\n",
              "    </tr>\n",
              "  </tbody>\n",
              "</table>\n",
              "</div>"
            ],
            "text/plain": [
              "              carat       cut_ord   clarity_ord         price\n",
              "count  50000.000000  50000.000000  50000.000000  50000.000000\n",
              "mean       0.798597      3.903980      4.126700   3939.103500\n",
              "std        0.474651      1.117043      1.665564   3995.879832\n",
              "min        0.200000      1.000000      1.000000    326.000000\n",
              "25%        0.400000      3.000000      3.000000    948.000000\n",
              "50%        0.700000      4.000000      4.000000   2402.500000\n",
              "75%        1.040000      5.000000      5.000000   5331.000000\n",
              "max        5.010000      5.000000      8.000000  18823.000000"
            ]
          },
          "metadata": {},
          "execution_count": 15
        }
      ]
    },
    {
      "cell_type": "code",
      "metadata": {
        "colab": {
          "base_uri": "https://localhost:8080/"
        },
        "id": "8D9hdK3CoaxB",
        "outputId": "de01fd63-ace7-486d-b200-303b7d82b6d7"
      },
      "source": [
        "df.var()"
      ],
      "execution_count": 16,
      "outputs": [
        {
          "output_type": "execute_result",
          "data": {
            "text/plain": [
              "carat          2.252939e-01\n",
              "cut_ord        1.247785e+00\n",
              "clarity_ord    2.774103e+00\n",
              "price          1.596706e+07\n",
              "dtype: float64"
            ]
          },
          "metadata": {},
          "execution_count": 16
        }
      ]
    },
    {
      "cell_type": "code",
      "metadata": {
        "id": "HyPUX1SpouNR"
      },
      "source": [
        "import keras\n",
        "from keras.layers import Dense\n",
        "from keras.models import Sequential\n",
        "import numpy as np\n",
        "\n",
        "df['carat'] = df['carat'].astype(np.float32)\n",
        "df['cut_ord'] = df['cut_ord'].astype(np.float32)\n",
        "df['clarity_ord'] = df['clarity_ord'].astype(np.float32)\n",
        "df['price'] = df['price'].astype(np.float32)"
      ],
      "execution_count": 6,
      "outputs": []
    },
    {
      "cell_type": "code",
      "metadata": {
        "colab": {
          "base_uri": "https://localhost:8080/"
        },
        "id": "q_U42FZotoLw",
        "outputId": "75f73755-1a85-4b3a-daaa-70f6d5026e97"
      },
      "source": [
        "# Print the number of NaNs\n",
        "df.isnull().sum()"
      ],
      "execution_count": 17,
      "outputs": [
        {
          "output_type": "execute_result",
          "data": {
            "text/plain": [
              "carat          0\n",
              "cut_ord        0\n",
              "clarity_ord    0\n",
              "price          0\n",
              "dtype: int64"
            ]
          },
          "metadata": {},
          "execution_count": 17
        }
      ]
    },
    {
      "cell_type": "code",
      "metadata": {
        "id": "0qc-SJktw5sQ"
      },
      "source": [
        "predictors = df.drop('price', axis = 1)\n",
        "predictors = np.array(predictors)"
      ],
      "execution_count": 9,
      "outputs": []
    },
    {
      "cell_type": "code",
      "metadata": {
        "id": "owk-j53cxOoA"
      },
      "source": [
        "target = df.price\n",
        "target = np.array(target)"
      ],
      "execution_count": null,
      "outputs": []
    },
    {
      "cell_type": "code",
      "metadata": {
        "colab": {
          "base_uri": "https://localhost:8080/"
        },
        "id": "TOD-i_NoB2Qi",
        "outputId": "904ff4f7-8281-4198-8c48-69253bfc2953"
      },
      "source": [
        "# Import necessary modules\n",
        "from sklearn.linear_model import LinearRegression\n",
        "from sklearn.metrics import mean_squared_error\n",
        "from sklearn.model_selection import train_test_split\n",
        "\n",
        "# Create training and test sets\n",
        "predictors_train, predictors_test, target_train, target_test = train_test_split(predictors, target, test_size = 0.30, random_state= 42)\n",
        "\n",
        "# Create the regressor: reg_all\n",
        "reg_all = LinearRegression()\n",
        "\n",
        "# Fit the regressor to the training data\n",
        "reg_all.fit(predictors_train, target_train)\n",
        "\n",
        "# Predict on the test data: y_pred\n",
        "target_pred = reg_all.predict(predictors_test)\n",
        "\n",
        "\n",
        "# Compute and print R^2 and RMSE\n",
        "print(\"R^2: {}\".format(reg_all.score(predictors_test, target_test)))\n",
        "\n",
        "rmse = np.sqrt(mean_squared_error(target_test, target_pred))\n",
        "\n",
        "print(\"Root Mean Squared Error: {}\".format(rmse))\n"
      ],
      "execution_count": null,
      "outputs": [
        {
          "output_type": "stream",
          "name": "stdout",
          "text": [
            "R^2: 0.8849230974944802\n",
            "Root Mean Squared Error: 1328.0048828125\n"
          ]
        }
      ]
    },
    {
      "cell_type": "code",
      "metadata": {
        "colab": {
          "base_uri": "https://localhost:8080/"
        },
        "id": "leQJKFONCz0h",
        "outputId": "f40cd34a-100d-40f1-9887-10b4a8c433b0"
      },
      "source": [
        ">>> print('intercept:', reg_all.intercept_)\n",
        "\n",
        ">>> print('slope:', reg_all.coef_)\n"
      ],
      "execution_count": null,
      "outputs": [
        {
          "output_type": "stream",
          "name": "stdout",
          "text": [
            "intercept: -5239.331\n",
            "slope: [8387.326    154.32529  456.85684]\n"
          ]
        }
      ]
    },
    {
      "cell_type": "code",
      "metadata": {
        "colab": {
          "base_uri": "https://localhost:8080/",
          "height": 287
        },
        "id": "aXZ5oNo_8TBn",
        "outputId": "ce9c979d-2fce-4abd-e347-856278245d6e"
      },
      "source": [
        "import seaborn as sns\n",
        "sns.heatmap(df.corr(), square=True, cmap='RdYlGn')"
      ],
      "execution_count": null,
      "outputs": [
        {
          "output_type": "execute_result",
          "data": {
            "text/plain": [
              "<matplotlib.axes._subplots.AxesSubplot at 0x7f17206d65d0>"
            ]
          },
          "metadata": {},
          "execution_count": 14
        },
        {
          "output_type": "display_data",
          "data": {
            "image/png": "[encoded data removed]",
            "text/plain": [
              "<Figure size 432x288 with 2 Axes>"
            ]
          },
          "metadata": {
            "needs_background": "light"
          }
        }
      ]
    },
    {
      "cell_type": "code",
      "metadata": {
        "colab": {
          "base_uri": "https://localhost:8080/"
        },
        "id": "yl9inMlExagR",
        "outputId": "5a8bcd3e-e9c5-42f7-c18d-40f676e95f0d"
      },
      "source": [
        "# Import EarlyStopping\n",
        "from keras.callbacks import EarlyStopping\n",
        "\n",
        "# Import necessary modules\n",
        "import keras\n",
        "from keras.layers import Dense\n",
        "from keras.models import Sequential\n",
        "import pandas as pd\n",
        "import numpy as np\n",
        "\n",
        "\n",
        "# Save the number of columns in predictors: n_cols\n",
        "n_cols = predictors.shape[1]\n",
        "input_shape = (n_cols,)\n",
        "\n",
        "input_shape"
      ],
      "execution_count": null,
      "outputs": [
        {
          "output_type": "execute_result",
          "data": {
            "text/plain": [
              "(3,)"
            ]
          },
          "metadata": {},
          "execution_count": 15
        }
      ]
    },
    {
      "cell_type": "code",
      "metadata": {
        "id": "jwvC9m8Jxr4R"
      },
      "source": [
        "# Specify the model\n",
        "model = Sequential()\n",
        "\n",
        "model.add(Dense(128, activation='relu', input_shape = input_shape,))\n",
        "model.add(Dense(64, activation='relu'))\n",
        "model.add(Dense(32, activation='relu'))\n",
        "model.add(Dense(8, activation='relu'))\n",
        "model.add(Dense(1))"
      ],
      "execution_count": null,
      "outputs": []
    },
    {
      "cell_type": "code",
      "metadata": {
        "colab": {
          "base_uri": "https://localhost:8080/"
        },
        "id": "NxOaAs2tyXjr",
        "outputId": "c9a537a4-e904-4e97-dace-cb4d43dd8c51"
      },
      "source": [
        "model.summary()"
      ],
      "execution_count": null,
      "outputs": [
        {
          "output_type": "stream",
          "name": "stdout",
          "text": [
            "Model: \"sequential\"\n",
            "_________________________________________________________________\n",
            "Layer (type)                 Output Shape              Param #   \n",
            "=================================================================\n",
            "dense (Dense)                (None, 128)               512       \n",
            "_________________________________________________________________\n",
            "dense_1 (Dense)              (None, 64)                8256      \n",
            "_________________________________________________________________\n",
            "dense_2 (Dense)              (None, 32)                2080      \n",
            "_________________________________________________________________\n",
            "dense_3 (Dense)              (None, 8)                 264       \n",
            "_________________________________________________________________\n",
            "dense_4 (Dense)              (None, 1)                 9         \n",
            "=================================================================\n",
            "Total params: 11,121\n",
            "Trainable params: 11,121\n",
            "Non-trainable params: 0\n",
            "_________________________________________________________________\n"
          ]
        }
      ]
    },
    {
      "cell_type": "code",
      "metadata": {
        "id": "e4dNDghWzExZ"
      },
      "source": [
        "\n",
        "# Compile the model\n",
        "model.compile(optimizer='adam', loss='mean_squared_error')"
      ],
      "execution_count": null,
      "outputs": []
    },
    {
      "cell_type": "code",
      "metadata": {
        "id": "SYc2qJbyJTdQ"
      },
      "source": [
        "# Create training and test sets\n",
        "predictors_train, predictors_test, target_train, target_test = train_test_split(predictors, target, test_size = 0.30, random_state= 42)"
      ],
      "execution_count": null,
      "outputs": []
    },
    {
      "cell_type": "code",
      "metadata": {
        "colab": {
          "base_uri": "https://localhost:8080/"
        },
        "id": "7TkElhBCByJ1",
        "outputId": "1c762be2-6357-4d5c-fbb9-f6a78425f338"
      },
      "source": [
        "# Import the EarlyStopping and ModelCheckpoint callbacks\n",
        "from keras.callbacks import EarlyStopping, ModelCheckpoint\n",
        "\n",
        "# Early stop on validation accuracy\n",
        "monitor_val_loss = EarlyStopping(monitor = 'val_loss', patience = 5)\n",
        "\n",
        "# Save the best model as best_banknote_model.hdf5\n",
        "modelCheckpoint = ModelCheckpoint('best_diamonds_model.hdf5', save_best_only = True)\n",
        "\n",
        "# Fit your model for a stupid amount of epochs\n",
        "h_callback = model.fit(predictors_train, target_train,\n",
        "                    epochs = 1000,\n",
        "                    callbacks = [monitor_val_loss, modelCheckpoint],\n",
        "                    validation_data = (predictors_test, target_test))"
      ],
      "execution_count": null,
      "outputs": [
        {
          "output_type": "stream",
          "name": "stdout",
          "text": [
            "Epoch 1/1000\n",
            "1094/1094 [==============================] - 3s 2ms/step - loss: 11463453.0000 - val_loss: 2482072.5000\n",
            "Epoch 2/1000\n",
            "1094/1094 [==============================] - 2s 2ms/step - loss: 1938133.1250 - val_loss: 1537728.3750\n",
            "Epoch 3/1000\n",
            "1094/1094 [==============================] - 2s 2ms/step - loss: 1527701.2500 - val_loss: 1399395.5000\n",
            "Epoch 4/1000\n",
            "1094/1094 [==============================] - 2s 2ms/step - loss: 1453191.8750 - val_loss: 1364616.6250\n",
            "Epoch 5/1000\n",
            "1094/1094 [==============================] - 2s 2ms/step - loss: 1409910.6250 - val_loss: 1309798.3750\n",
            "Epoch 6/1000\n",
            "1094/1094 [==============================] - 2s 2ms/step - loss: 1376546.6250 - val_loss: 1283195.3750\n",
            "Epoch 7/1000\n",
            "1094/1094 [==============================] - 2s 2ms/step - loss: 1357826.6250 - val_loss: 1294285.8750\n",
            "Epoch 8/1000\n",
            "1094/1094 [==============================] - 2s 2ms/step - loss: 1335770.1250 - val_loss: 1326546.0000\n",
            "Epoch 9/1000\n",
            "1094/1094 [==============================] - 2s 2ms/step - loss: 1328277.6250 - val_loss: 1326414.7500\n",
            "Epoch 10/1000\n",
            "1094/1094 [==============================] - 2s 2ms/step - loss: 1320168.0000 - val_loss: 1295743.5000\n",
            "Epoch 11/1000\n",
            "1094/1094 [==============================] - 2s 2ms/step - loss: 1317563.8750 - val_loss: 1276706.5000\n",
            "Epoch 12/1000\n",
            "1094/1094 [==============================] - 2s 2ms/step - loss: 1311289.2500 - val_loss: 1213642.6250\n",
            "Epoch 13/1000\n",
            "1094/1094 [==============================] - 2s 2ms/step - loss: 1313618.5000 - val_loss: 1265433.5000\n",
            "Epoch 14/1000\n",
            "1094/1094 [==============================] - 2s 2ms/step - loss: 1305132.7500 - val_loss: 1234799.6250\n",
            "Epoch 15/1000\n",
            "1094/1094 [==============================] - 2s 2ms/step - loss: 1301984.6250 - val_loss: 1211880.3750\n",
            "Epoch 16/1000\n",
            "1094/1094 [==============================] - 2s 2ms/step - loss: 1298433.6250 - val_loss: 1219633.8750\n",
            "Epoch 17/1000\n",
            "1094/1094 [==============================] - 2s 2ms/step - loss: 1293489.3750 - val_loss: 1263763.1250\n",
            "Epoch 18/1000\n",
            "1094/1094 [==============================] - 2s 2ms/step - loss: 1291377.7500 - val_loss: 1210420.6250\n",
            "Epoch 19/1000\n",
            "1094/1094 [==============================] - 2s 2ms/step - loss: 1281709.8750 - val_loss: 1199237.2500\n",
            "Epoch 20/1000\n",
            "1094/1094 [==============================] - 2s 2ms/step - loss: 1275397.2500 - val_loss: 1192803.6250\n",
            "Epoch 21/1000\n",
            "1094/1094 [==============================] - 2s 2ms/step - loss: 1266317.8750 - val_loss: 1175976.1250\n",
            "Epoch 22/1000\n",
            "1094/1094 [==============================] - 2s 2ms/step - loss: 1267473.1250 - val_loss: 1173507.1250\n",
            "Epoch 23/1000\n",
            "1094/1094 [==============================] - 2s 2ms/step - loss: 1258640.1250 - val_loss: 1169470.0000\n",
            "Epoch 24/1000\n",
            "1094/1094 [==============================] - 2s 2ms/step - loss: 1239897.0000 - val_loss: 1157950.1250\n",
            "Epoch 25/1000\n",
            "1094/1094 [==============================] - 2s 2ms/step - loss: 1235182.0000 - val_loss: 1171418.0000\n",
            "Epoch 26/1000\n",
            "1094/1094 [==============================] - 2s 2ms/step - loss: 1227806.5000 - val_loss: 1174836.7500\n",
            "Epoch 27/1000\n",
            "1094/1094 [==============================] - 2s 2ms/step - loss: 1229129.3750 - val_loss: 1140608.2500\n",
            "Epoch 28/1000\n",
            "1094/1094 [==============================] - 2s 2ms/step - loss: 1221915.0000 - val_loss: 1156857.1250\n",
            "Epoch 29/1000\n",
            "1094/1094 [==============================] - 2s 2ms/step - loss: 1225976.6250 - val_loss: 1150734.5000\n",
            "Epoch 30/1000\n",
            "1094/1094 [==============================] - 2s 2ms/step - loss: 1219837.3750 - val_loss: 1149328.5000\n",
            "Epoch 31/1000\n",
            "1094/1094 [==============================] - 2s 2ms/step - loss: 1214009.0000 - val_loss: 1181867.7500\n",
            "Epoch 32/1000\n",
            "1094/1094 [==============================] - 2s 2ms/step - loss: 1214015.7500 - val_loss: 1130469.5000\n",
            "Epoch 33/1000\n",
            "1094/1094 [==============================] - 2s 2ms/step - loss: 1215567.8750 - val_loss: 1127882.7500\n",
            "Epoch 34/1000\n",
            "1094/1094 [==============================] - 2s 2ms/step - loss: 1204999.3750 - val_loss: 1149220.7500\n",
            "Epoch 35/1000\n",
            "1094/1094 [==============================] - 2s 2ms/step - loss: 1206394.1250 - val_loss: 1126970.0000\n",
            "Epoch 36/1000\n",
            "1094/1094 [==============================] - 2s 2ms/step - loss: 1196185.6250 - val_loss: 1184587.2500\n",
            "Epoch 37/1000\n",
            "1094/1094 [==============================] - 2s 2ms/step - loss: 1200139.5000 - val_loss: 1143065.2500\n",
            "Epoch 38/1000\n",
            "1094/1094 [==============================] - 2s 2ms/step - loss: 1198878.2500 - val_loss: 1199154.1250\n",
            "Epoch 39/1000\n",
            "1094/1094 [==============================] - 2s 2ms/step - loss: 1193584.2500 - val_loss: 1252489.5000\n",
            "Epoch 40/1000\n",
            "1094/1094 [==============================] - 2s 2ms/step - loss: 1188107.2500 - val_loss: 1124692.5000\n",
            "Epoch 41/1000\n",
            "1094/1094 [==============================] - 2s 2ms/step - loss: 1184173.8750 - val_loss: 1124098.7500\n",
            "Epoch 42/1000\n",
            "1094/1094 [==============================] - 2s 2ms/step - loss: 1181475.0000 - val_loss: 1166435.6250\n",
            "Epoch 43/1000\n",
            "1094/1094 [==============================] - 2s 2ms/step - loss: 1175667.1250 - val_loss: 1122098.1250\n",
            "Epoch 44/1000\n",
            "1094/1094 [==============================] - 2s 2ms/step - loss: 1176314.0000 - val_loss: 1110604.6250\n",
            "Epoch 45/1000\n",
            "1094/1094 [==============================] - 2s 2ms/step - loss: 1177076.0000 - val_loss: 1172558.2500\n",
            "Epoch 46/1000\n",
            "1094/1094 [==============================] - 2s 2ms/step - loss: 1167864.7500 - val_loss: 1112727.1250\n",
            "Epoch 47/1000\n",
            "1094/1094 [==============================] - 2s 2ms/step - loss: 1166984.6250 - val_loss: 1098556.2500\n",
            "Epoch 48/1000\n",
            "1094/1094 [==============================] - 2s 2ms/step - loss: 1162040.8750 - val_loss: 1145868.5000\n",
            "Epoch 49/1000\n",
            "1094/1094 [==============================] - 2s 2ms/step - loss: 1161848.7500 - val_loss: 1090995.2500\n",
            "Epoch 50/1000\n",
            "1094/1094 [==============================] - 2s 2ms/step - loss: 1160664.5000 - val_loss: 1109606.6250\n",
            "Epoch 51/1000\n",
            "1094/1094 [==============================] - 2s 2ms/step - loss: 1158912.6250 - val_loss: 1095257.3750\n",
            "Epoch 52/1000\n",
            "1094/1094 [==============================] - 2s 2ms/step - loss: 1155634.6250 - val_loss: 1104189.0000\n",
            "Epoch 53/1000\n",
            "1094/1094 [==============================] - 2s 2ms/step - loss: 1151965.5000 - val_loss: 1117793.0000\n",
            "Epoch 54/1000\n",
            "1094/1094 [==============================] - 2s 2ms/step - loss: 1159006.0000 - val_loss: 1089899.5000\n",
            "Epoch 55/1000\n",
            "1094/1094 [==============================] - 2s 2ms/step - loss: 1145780.0000 - val_loss: 1125490.8750\n",
            "Epoch 56/1000\n",
            "1094/1094 [==============================] - 2s 2ms/step - loss: 1147905.8750 - val_loss: 1147939.1250\n",
            "Epoch 57/1000\n",
            "1094/1094 [==============================] - 2s 2ms/step - loss: 1144401.5000 - val_loss: 1098631.2500\n",
            "Epoch 58/1000\n",
            "1094/1094 [==============================] - 2s 2ms/step - loss: 1147606.1250 - val_loss: 1090915.8750\n",
            "Epoch 59/1000\n",
            "1094/1094 [==============================] - 2s 2ms/step - loss: 1146057.7500 - val_loss: 1081355.2500\n",
            "Epoch 60/1000\n",
            "1094/1094 [==============================] - 2s 2ms/step - loss: 1139590.5000 - val_loss: 1093755.1250\n",
            "Epoch 61/1000\n",
            "1094/1094 [==============================] - 2s 2ms/step - loss: 1139276.5000 - val_loss: 1109784.5000\n",
            "Epoch 62/1000\n",
            "1094/1094 [==============================] - 2s 2ms/step - loss: 1137046.1250 - val_loss: 1102216.2500\n",
            "Epoch 63/1000\n",
            "1094/1094 [==============================] - 2s 2ms/step - loss: 1135956.5000 - val_loss: 1077651.2500\n",
            "Epoch 64/1000\n",
            "1094/1094 [==============================] - 2s 2ms/step - loss: 1134395.0000 - val_loss: 1177499.3750\n",
            "Epoch 65/1000\n",
            "1094/1094 [==============================] - 2s 2ms/step - loss: 1133455.8750 - val_loss: 1102657.7500\n",
            "Epoch 66/1000\n",
            "1094/1094 [==============================] - 2s 2ms/step - loss: 1131623.7500 - val_loss: 1189653.8750\n",
            "Epoch 67/1000\n",
            "1094/1094 [==============================] - 2s 2ms/step - loss: 1127983.0000 - val_loss: 1076922.3750\n",
            "Epoch 68/1000\n",
            "1094/1094 [==============================] - 2s 2ms/step - loss: 1128156.5000 - val_loss: 1072248.3750\n",
            "Epoch 69/1000\n",
            "1094/1094 [==============================] - 2s 2ms/step - loss: 1128409.2500 - val_loss: 1073762.2500\n",
            "Epoch 70/1000\n",
            "1094/1094 [==============================] - 2s 2ms/step - loss: 1124886.7500 - val_loss: 1072756.3750\n",
            "Epoch 71/1000\n",
            "1094/1094 [==============================] - 2s 2ms/step - loss: 1127034.5000 - val_loss: 1068759.1250\n",
            "Epoch 72/1000\n",
            "1094/1094 [==============================] - 2s 2ms/step - loss: 1122633.1250 - val_loss: 1141775.8750\n",
            "Epoch 73/1000\n",
            "1094/1094 [==============================] - 2s 2ms/step - loss: 1125972.2500 - val_loss: 1094084.6250\n",
            "Epoch 74/1000\n",
            "1094/1094 [==============================] - 2s 2ms/step - loss: 1120150.5000 - val_loss: 1076557.5000\n",
            "Epoch 75/1000\n",
            "1094/1094 [==============================] - 2s 2ms/step - loss: 1127294.0000 - val_loss: 1075969.8750\n",
            "Epoch 76/1000\n",
            "1094/1094 [==============================] - 2s 2ms/step - loss: 1122892.7500 - val_loss: 1068109.8750\n",
            "Epoch 77/1000\n",
            "1094/1094 [==============================] - 2s 2ms/step - loss: 1113906.7500 - val_loss: 1064637.0000\n",
            "Epoch 78/1000\n",
            "1094/1094 [==============================] - 2s 2ms/step - loss: 1113447.5000 - val_loss: 1089832.2500\n",
            "Epoch 79/1000\n",
            "1094/1094 [==============================] - 2s 2ms/step - loss: 1113741.8750 - val_loss: 1122336.2500\n",
            "Epoch 80/1000\n",
            "1094/1094 [==============================] - 2s 2ms/step - loss: 1109165.1250 - val_loss: 1063672.2500\n",
            "Epoch 81/1000\n",
            "1094/1094 [==============================] - 2s 2ms/step - loss: 1105596.0000 - val_loss: 1083116.6250\n",
            "Epoch 82/1000\n",
            "1094/1094 [==============================] - 2s 2ms/step - loss: 1110062.5000 - val_loss: 1082869.8750\n",
            "Epoch 83/1000\n",
            "1094/1094 [==============================] - 2s 2ms/step - loss: 1107289.7500 - val_loss: 1059338.6250\n",
            "Epoch 84/1000\n",
            "1094/1094 [==============================] - 2s 2ms/step - loss: 1103504.5000 - val_loss: 1061648.8750\n",
            "Epoch 85/1000\n",
            "1094/1094 [==============================] - 2s 2ms/step - loss: 1098334.1250 - val_loss: 1063672.5000\n",
            "Epoch 86/1000\n",
            "1094/1094 [==============================] - 2s 2ms/step - loss: 1097731.3750 - val_loss: 1048134.5000\n",
            "Epoch 87/1000\n",
            "1094/1094 [==============================] - 2s 2ms/step - loss: 1098350.1250 - val_loss: 1055384.2500\n",
            "Epoch 88/1000\n",
            "1094/1094 [==============================] - 2s 2ms/step - loss: 1094618.5000 - val_loss: 1052675.1250\n",
            "Epoch 89/1000\n",
            "1094/1094 [==============================] - 2s 2ms/step - loss: 1096778.3750 - val_loss: 1057498.1250\n",
            "Epoch 90/1000\n",
            "1094/1094 [==============================] - 2s 2ms/step - loss: 1094869.1250 - val_loss: 1076074.6250\n",
            "Epoch 91/1000\n",
            "1094/1094 [==============================] - 2s 2ms/step - loss: 1081911.2500 - val_loss: 1053042.8750\n"
          ]
        }
      ]
    },
    {
      "cell_type": "code",
      "metadata": {
        "colab": {
          "base_uri": "https://localhost:8080/",
          "height": 295
        },
        "id": "1j1b7NFEtv45",
        "outputId": "61a3d05a-e0c3-4ee4-8b0a-07d0a199b315"
      },
      "source": [
        "import matplotlib.pyplot as plt\n",
        "plt.figure()\n",
        "plt.plot(h_callback.history['val_loss'], label = 'Validation loss')\n",
        "plt.plot(h_callback.history['loss'], label= 'Training loss')\n",
        "plt.title('Model loss')\n",
        "plt.xlabel('Epoch')\n",
        "plt.ylabel('loss')\n",
        "plt.legend()\n",
        "plt.show()\n"
      ],
      "execution_count": null,
      "outputs": [
        {
          "output_type": "display_data",
          "data": {
            "image/png": "[encoded data removed]",
            "text/plain": [
              "<Figure size 432x288 with 1 Axes>"
            ]
          },
          "metadata": {
            "needs_background": "light"
          }
        }
      ]
    },
    {
      "cell_type": "code",
      "metadata": {
        "id": "HHLrCzHYCB6N"
      },
      "source": [
        "\n",
        "from keras.models import load_model\n",
        "\n",
        "my_model = load_model('best_diamonds_model.hdf5')"
      ],
      "execution_count": null,
      "outputs": []
    },
    {
      "cell_type": "code",
      "metadata": {
        "colab": {
          "base_uri": "https://localhost:8080/"
        },
        "id": "aYHcMzhoDOMV",
        "outputId": "abfad9a9-1997-4bf0-fb3b-4f1d316d6a4a"
      },
      "source": [
        "preds = my_model.predict(predictors_test)\n",
        "preds"
      ],
      "execution_count": null,
      "outputs": [
        {
          "output_type": "execute_result",
          "data": {
            "text/plain": [
              "array([[5369.937  ],\n",
              "       [3062.2864 ],\n",
              "       [1550.7408 ],\n",
              "       ...,\n",
              "       [ 615.96063],\n",
              "       [1862.7834 ],\n",
              "       [ 803.30444]], dtype=float32)"
            ]
          },
          "metadata": {},
          "execution_count": 24
        }
      ]
    },
    {
      "cell_type": "code",
      "metadata": {
        "colab": {
          "base_uri": "https://localhost:8080/"
        },
        "id": "ejn7XsGlCMlc",
        "outputId": "5aee02ee-074e-4ec6-891e-205e8585fff1"
      },
      "source": [
        "target_test"
      ],
      "execution_count": null,
      "outputs": [
        {
          "output_type": "execute_result",
          "data": {
            "text/plain": [
              "array([6884., 3212., 1424., ...,  696., 1224.,  723.], dtype=float32)"
            ]
          },
          "metadata": {},
          "execution_count": 25
        }
      ]
    },
    {
      "cell_type": "code",
      "metadata": {
        "colab": {
          "base_uri": "https://localhost:8080/"
        },
        "id": "SVTt4d84KnG2",
        "outputId": "c9708a0b-a7ad-44be-ffca-adff6c80a2ed"
      },
      "source": [
        "from sklearn.metrics import mean_squared_error\n",
        "\n",
        "from math import sqrt\n",
        "\n",
        "\n",
        "\n",
        "mse = mean_squared_error(target_test, preds)\n",
        "\n",
        "\n",
        "rmse = sqrt(mse)\n",
        "\n",
        "print('RMSE: %f' % rmse)"
      ],
      "execution_count": null,
      "outputs": [
        {
          "output_type": "stream",
          "name": "stdout",
          "text": [
            "RMSE: 1023.784432\n"
          ]
        }
      ]
    },
    {
      "cell_type": "markdown",
      "metadata": {
        "id": "Mx7k3zHuLTqW"
      },
      "source": [
        "Deep learning algorithm with some optimization results in 20,8 % better performance than Linear Regression. \n"
      ]
    },
    {
      "cell_type": "code",
      "metadata": {
        "id": "d-A5m1KM6NBv"
      },
      "source": [
        "from keras.layers import BatchNormalization\n",
        "\n",
        "\n",
        "# Specify the model\n",
        "model_b = Sequential()\n",
        "\n",
        "model_b.add(Dense(128, activation='relu', input_shape = input_shape,))\n",
        "model_b.add(BatchNormalization())\n",
        "model_b.add(Dense(64, activation='relu'))\n",
        "model_b.add(BatchNormalization())\n",
        "model_b.add(Dense(32, activation='relu'))\n",
        "model_b.add(BatchNormalization())\n",
        "model_b.add(Dense(8, activation='relu'))\n",
        "model_b.add(BatchNormalization())\n",
        "model_b.add(Dense(1))"
      ],
      "execution_count": null,
      "outputs": []
    },
    {
      "cell_type": "code",
      "metadata": {
        "colab": {
          "base_uri": "https://localhost:8080/"
        },
        "id": "7-CuZd4o8kY8",
        "outputId": "619b39fb-0037-4b45-9efa-fc8bf35e296c"
      },
      "source": [
        "model_b.summary()"
      ],
      "execution_count": null,
      "outputs": [
        {
          "output_type": "stream",
          "name": "stdout",
          "text": [
            "Model: \"sequential_2\"\n",
            "_________________________________________________________________\n",
            "Layer (type)                 Output Shape              Param #   \n",
            "=================================================================\n",
            "dense_10 (Dense)             (None, 128)               512       \n",
            "_________________________________________________________________\n",
            "batch_normalization_5 (Batch (None, 128)               512       \n",
            "_________________________________________________________________\n",
            "dense_11 (Dense)             (None, 64)                8256      \n",
            "_________________________________________________________________\n",
            "batch_normalization_6 (Batch (None, 64)                256       \n",
            "_________________________________________________________________\n",
            "dense_12 (Dense)             (None, 32)                2080      \n",
            "_________________________________________________________________\n",
            "batch_normalization_7 (Batch (None, 32)                128       \n",
            "_________________________________________________________________\n",
            "dense_13 (Dense)             (None, 8)                 264       \n",
            "_________________________________________________________________\n",
            "batch_normalization_8 (Batch (None, 8)                 32        \n",
            "_________________________________________________________________\n",
            "dense_14 (Dense)             (None, 1)                 9         \n",
            "=================================================================\n",
            "Total params: 12,049\n",
            "Trainable params: 11,585\n",
            "Non-trainable params: 464\n",
            "_________________________________________________________________\n"
          ]
        }
      ]
    },
    {
      "cell_type": "code",
      "metadata": {
        "id": "KC26wByV8vPg"
      },
      "source": [
        "# Create training and test sets\n",
        "predictors_train, predictors_test, target_train, target_test = train_test_split(predictors, target, test_size = 0.30, random_state= 42)"
      ],
      "execution_count": null,
      "outputs": []
    },
    {
      "cell_type": "code",
      "metadata": {
        "id": "1REP2eca9Mot"
      },
      "source": [
        "# Compile the model\n",
        "model_b.compile(optimizer='adam', loss='mean_squared_error')"
      ],
      "execution_count": null,
      "outputs": []
    },
    {
      "cell_type": "code",
      "metadata": {
        "colab": {
          "base_uri": "https://localhost:8080/"
        },
        "id": "11LNsNNG86O0",
        "outputId": "a16e2cff-078b-4bd0-82c2-fd660d5d4535"
      },
      "source": [
        "# Import the EarlyStopping and ModelCheckpoint callbacks\n",
        "from keras.callbacks import EarlyStopping, ModelCheckpoint\n",
        "\n",
        "# Early stop on validation accuracy\n",
        "monitor_val_loss = EarlyStopping(monitor = 'val_loss', patience = 5)\n",
        "\n",
        "# Save the best model as best_banknote_model.hdf5\n",
        "modelCheckpoint = ModelCheckpoint('best_diamonds_model_b.hdf5', save_best_only = True)\n",
        "\n",
        "# Fit your model for a stupid amount of epochs\n",
        "h_callback = model_b.fit(predictors_train, target_train,\n",
        "                    epochs = 1000,\n",
        "                    callbacks = [monitor_val_loss, modelCheckpoint],\n",
        "                    validation_data = (predictors_test, target_test))"
      ],
      "execution_count": null,
      "outputs": [
        {
          "output_type": "stream",
          "name": "stdout",
          "text": [
            "Epoch 1/1000\n",
            "1094/1094 [==============================] - 4s 3ms/step - loss: 31856708.0000 - val_loss: 29675256.0000\n",
            "Epoch 2/1000\n",
            "1094/1094 [==============================] - 3s 3ms/step - loss: 31166192.0000 - val_loss: 28915346.0000\n",
            "Epoch 3/1000\n",
            "1094/1094 [==============================] - 3s 2ms/step - loss: 30007094.0000 - val_loss: 27446446.0000\n",
            "Epoch 4/1000\n",
            "1094/1094 [==============================] - 3s 2ms/step - loss: 28511360.0000 - val_loss: 25872832.0000\n",
            "Epoch 5/1000\n",
            "1094/1094 [==============================] - 3s 2ms/step - loss: 26749022.0000 - val_loss: 23632592.0000\n",
            "Epoch 6/1000\n",
            "1094/1094 [==============================] - 3s 2ms/step - loss: 24795374.0000 - val_loss: 22539404.0000\n",
            "Epoch 7/1000\n",
            "1094/1094 [==============================] - 3s 3ms/step - loss: 22681048.0000 - val_loss: 20268600.0000\n",
            "Epoch 8/1000\n",
            "1094/1094 [==============================] - 3s 3ms/step - loss: 20466664.0000 - val_loss: 17926318.0000\n",
            "Epoch 9/1000\n",
            "1094/1094 [==============================] - 3s 2ms/step - loss: 18170282.0000 - val_loss: 15759174.0000\n",
            "Epoch 10/1000\n",
            "1094/1094 [==============================] - 3s 2ms/step - loss: 15870387.0000 - val_loss: 13230836.0000\n",
            "Epoch 11/1000\n",
            "1094/1094 [==============================] - 3s 3ms/step - loss: 13643710.0000 - val_loss: 11260121.0000\n",
            "Epoch 12/1000\n",
            "1094/1094 [==============================] - 3s 2ms/step - loss: 11462742.0000 - val_loss: 9485830.0000\n",
            "Epoch 13/1000\n",
            "1094/1094 [==============================] - 3s 2ms/step - loss: 9454159.0000 - val_loss: 7410493.0000\n",
            "Epoch 14/1000\n",
            "1094/1094 [==============================] - 3s 3ms/step - loss: 7604905.0000 - val_loss: 5791267.0000\n",
            "Epoch 15/1000\n",
            "1094/1094 [==============================] - 3s 2ms/step - loss: 5969155.5000 - val_loss: 4181121.0000\n",
            "Epoch 16/1000\n",
            "1094/1094 [==============================] - 3s 2ms/step - loss: 4717169.5000 - val_loss: 3006065.0000\n",
            "Epoch 17/1000\n",
            "1094/1094 [==============================] - 3s 3ms/step - loss: 3679898.2500 - val_loss: 2272483.7500\n",
            "Epoch 18/1000\n",
            "1094/1094 [==============================] - 3s 2ms/step - loss: 2939767.7500 - val_loss: 1765717.0000\n",
            "Epoch 19/1000\n",
            "1094/1094 [==============================] - 3s 3ms/step - loss: 2447633.0000 - val_loss: 1269296.6250\n",
            "Epoch 20/1000\n",
            "1094/1094 [==============================] - 3s 2ms/step - loss: 2186535.2500 - val_loss: 1139268.6250\n",
            "Epoch 21/1000\n",
            "1094/1094 [==============================] - 3s 2ms/step - loss: 2002137.2500 - val_loss: 1212484.3750\n",
            "Epoch 22/1000\n",
            "1094/1094 [==============================] - 3s 3ms/step - loss: 1937342.2500 - val_loss: 1174844.1250\n",
            "Epoch 23/1000\n",
            "1094/1094 [==============================] - 3s 2ms/step - loss: 1839894.7500 - val_loss: 1024129.6875\n",
            "Epoch 24/1000\n",
            "1094/1094 [==============================] - 3s 3ms/step - loss: 1749284.7500 - val_loss: 1009154.4375\n",
            "Epoch 25/1000\n",
            "1094/1094 [==============================] - 3s 3ms/step - loss: 1692887.6250 - val_loss: 1091129.5000\n",
            "Epoch 26/1000\n",
            "1094/1094 [==============================] - 3s 3ms/step - loss: 1661492.1250 - val_loss: 1102622.8750\n",
            "Epoch 27/1000\n",
            "1094/1094 [==============================] - 3s 3ms/step - loss: 1642785.1250 - val_loss: 1040757.1875\n",
            "Epoch 28/1000\n",
            "1094/1094 [==============================] - 3s 2ms/step - loss: 1636421.7500 - val_loss: 1083694.6250\n",
            "Epoch 29/1000\n",
            "1094/1094 [==============================] - 3s 2ms/step - loss: 1618245.0000 - val_loss: 1040444.9375\n"
          ]
        }
      ]
    },
    {
      "cell_type": "code",
      "metadata": {
        "id": "9fDGNw4t9Cez"
      },
      "source": [
        "from keras.models import load_model\n",
        "\n",
        "my_model2 = load_model('best_diamonds_model_b.hdf5')"
      ],
      "execution_count": null,
      "outputs": []
    },
    {
      "cell_type": "code",
      "metadata": {
        "colab": {
          "base_uri": "https://localhost:8080/"
        },
        "id": "difSC3PA96cM",
        "outputId": "0c3e1ff3-2627-47d7-d143-98785ad0b685"
      },
      "source": [
        "preds = my_model2.predict(predictors_test)\n",
        "preds"
      ],
      "execution_count": null,
      "outputs": [
        {
          "output_type": "execute_result",
          "data": {
            "text/plain": [
              "array([[5303.8394],\n",
              "       [3029.9883],\n",
              "       [1395.98  ],\n",
              "       ...,\n",
              "       [ 579.6655],\n",
              "       [1695.1681],\n",
              "       [ 980.5603]], dtype=float32)"
            ]
          },
          "metadata": {},
          "execution_count": 43
        }
      ]
    },
    {
      "cell_type": "code",
      "metadata": {
        "colab": {
          "base_uri": "https://localhost:8080/"
        },
        "id": "BPajk7l8-z-0",
        "outputId": "4f43239f-e55b-4b43-c7c6-aaa6a37e03f8"
      },
      "source": [
        "target_test"
      ],
      "execution_count": null,
      "outputs": [
        {
          "output_type": "execute_result",
          "data": {
            "text/plain": [
              "array([6884., 3212., 1424., ...,  696., 1224.,  723.], dtype=float32)"
            ]
          },
          "metadata": {},
          "execution_count": 44
        }
      ]
    },
    {
      "cell_type": "code",
      "metadata": {
        "colab": {
          "base_uri": "https://localhost:8080/"
        },
        "id": "Mx9ms3ab-6h7",
        "outputId": "72e3feaf-6693-4587-8f03-3984570b2999"
      },
      "source": [
        "from sklearn.metrics import mean_squared_error\n",
        "\n",
        "from math import sqrt\n",
        "\n",
        "\n",
        "\n",
        "mse = mean_squared_error(target_test, preds)\n",
        "\n",
        "\n",
        "rmse = sqrt(mse)\n",
        "\n",
        "print('RMSE: %f' % rmse)"
      ],
      "execution_count": null,
      "outputs": [
        {
          "output_type": "stream",
          "name": "stdout",
          "text": [
            "RMSE: 1004.566729\n"
          ]
        }
      ]
    },
    {
      "cell_type": "markdown",
      "metadata": {
        "id": "apmhbP8E-_JE"
      },
      "source": [
        "# Deep learning with batch optimization performs even better with 24,4 % performance increase than the Linear regression."
      ]
    },
    {
      "cell_type": "markdown",
      "metadata": {
        "id": "5mdAxiuJYkst"
      },
      "source": [
        "## RMSE with Linear Regression, 1328\n",
        "## RMSE with Deep Learning, 1023.78\n",
        "## RMSE with Deep Learning and Batch Normalization, 1004.56"
      ]
    },
    {
      "cell_type": "code",
      "metadata": {
        "id": "bc4Pbojwi7Jk"
      },
      "source": [
        ""
      ],
      "execution_count": null,
      "outputs": []
    }
  ]
}